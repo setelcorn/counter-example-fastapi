{
 "cells": [
  {
   "cell_type": "code",
   "execution_count": null,
   "metadata": {},
   "outputs": [],
   "source": [
    "# pip install google-cloud-aiplatform\n",
    "# pip install google-cloud-aiplatform[tokenization]\n",
    "# pip install fastapi"
   ]
  },
  {
   "cell_type": "code",
   "execution_count": 5,
   "metadata": {},
   "outputs": [
    {
     "name": "stdout",
     "output_type": "stream",
     "text": [
      "result.total_tokens = 3\n"
     ]
    }
   ],
   "source": [
    "from vertexai.preview import tokenization\n",
    "\n",
    "\"gemini-1.5-pro\"\n",
    "\"gemini-1.5-flash\"\n",
    "model_name = \"gemini-1.5-flash-001\"\n",
    "tokenizer = tokenization.get_tokenizer_for_model(model_name)\n",
    "\n",
    "contents = \"Hello World!\"\n",
    "result = tokenizer.count_tokens(contents)\n",
    "\n",
    "print(f\"{result.total_tokens = :,}\")\n",
    "# result.total_tokens = 3"
   ]
  }
 ],
 "metadata": {
  "kernelspec": {
   "display_name": "Python 3",
   "language": "python",
   "name": "python3"
  },
  "language_info": {
   "codemirror_mode": {
    "name": "ipython",
    "version": 3
   },
   "file_extension": ".py",
   "mimetype": "text/x-python",
   "name": "python",
   "nbconvert_exporter": "python",
   "pygments_lexer": "ipython3",
   "version": "3.10.14"
  }
 },
 "nbformat": 4,
 "nbformat_minor": 2
}
